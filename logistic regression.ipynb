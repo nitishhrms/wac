{
 "cells": [
  {
   "cell_type": "markdown",
   "metadata": {},
   "source": [
    "# Data Preperation"
   ]
  },
  {
   "cell_type": "code",
   "execution_count": 1,
   "metadata": {},
   "outputs": [],
   "source": [
    "import numpy as np\n",
    "import matplotlib.pyplot as plt"
   ]
  },
  {
   "cell_type": "code",
   "execution_count": 2,
   "metadata": {},
   "outputs": [],
   "source": [
    "mean_01=np.array([1,0.5])\n",
    "cov_01=np.array([[1,0.1],\n",
    "               [0.1,1.2]])\n",
    "mean_02=np.array([4,5])\n",
    "cov_02=np.array([[1.21,0.1],\n",
    "               [0.1,1.3]])"
   ]
  },
  {
   "cell_type": "code",
   "execution_count": 3,
   "metadata": {},
   "outputs": [],
   "source": [
    "dist_01=np.random.multivariate_normal(mean_01,cov_01,400)\n",
    "dist_02=np.random.multivariate_normal(mean_02,cov_02,400)"
   ]
  },
  {
   "cell_type": "code",
   "execution_count": 4,
   "metadata": {},
   "outputs": [
    {
     "data": {
      "image/png": "[encoded data removed]",
      "text/plain": [
       "<Figure size 432x288 with 1 Axes>"
      ]
     },
     "metadata": {
      "needs_background": "light"
     },
     "output_type": "display_data"
    }
   ],
   "source": [
    "plt.figure(0)\n",
    "plt.scatter(dist_01[:,0],dist_01[:,1],label='class0')\n",
    "plt.scatter(dist_02[:,0],dist_02[:,1],label='class1')\n",
    "plt.xlim(-5,10)\n",
    "plt.ylim(-5,10)\n",
    "plt.xlabel('x1')\n",
    "plt.ylabel('x2')\n",
    "plt.legend()\n",
    "plt.show()"
   ]
  },
  {
   "cell_type": "markdown",
   "metadata": {},
   "source": [
    "# creating training and testing data"
   ]
  },
  {
   "cell_type": "code",
   "execution_count": 5,
   "metadata": {},
   "outputs": [
    {
     "name": "stdout",
     "output_type": "stream",
     "text": [
      "(800, 3)\n"
     ]
    }
   ],
   "source": [
    "data = np.zeros((800,3))\n",
    "print(data.shape)"
   ]
  },
  {
   "cell_type": "code",
   "execution_count": 6,
   "metadata": {},
   "outputs": [],
   "source": [
    "ones=np.ones((data.shape[0],1))\n",
    "dist01=np.hstack((ones[:400],dist_01))\n",
    "dist02=np.hstack((ones[400:],dist_02))"
   ]
  },
  {
   "cell_type": "code",
   "execution_count": 7,
   "metadata": {},
   "outputs": [
    {
     "data": {
      "text/plain": [
       "(400, 3)"
      ]
     },
     "execution_count": 7,
     "metadata": {},
     "output_type": "execute_result"
    }
   ],
   "source": [
    "dist01.shape"
   ]
  },
  {
   "cell_type": "code",
   "execution_count": 8,
   "metadata": {},
   "outputs": [],
   "source": [
    "data[:400,:]=dist01\n",
    "data[400:,:]=dist02"
   ]
  },
  {
   "cell_type": "code",
   "execution_count": 9,
   "metadata": {},
   "outputs": [],
   "source": [
    "x_train=data"
   ]
  },
  {
   "cell_type": "code",
   "execution_count": 10,
   "metadata": {},
   "outputs": [],
   "source": [
    "y_train=np.zeros((800,1))\n",
    "y_train[:400]=0\n",
    "y_train[400:]=1"
   ]
  },
  {
   "cell_type": "code",
   "execution_count": 11,
   "metadata": {},
   "outputs": [
    {
     "data": {
      "text/plain": [
       "(800, 1)"
      ]
     },
     "execution_count": 11,
     "metadata": {},
     "output_type": "execute_result"
    }
   ],
   "source": [
    "y_train.shape"
   ]
  },
  {
   "cell_type": "code",
   "execution_count": 12,
   "metadata": {},
   "outputs": [
    {
     "data": {
      "text/plain": [
       "(800, 3)"
      ]
     },
     "execution_count": 12,
     "metadata": {},
     "output_type": "execute_result"
    }
   ],
   "source": [
    "x_train.shape"
   ]
  },
  {
   "cell_type": "code",
   "execution_count": 13,
   "metadata": {},
   "outputs": [
    {
     "data": {
      "text/plain": [
       "(800, 3)"
      ]
     },
     "execution_count": 13,
     "metadata": {},
     "output_type": "execute_result"
    }
   ],
   "source": [
    "x_train.shape"
   ]
  },
  {
   "cell_type": "code",
   "execution_count": 14,
   "metadata": {},
   "outputs": [],
   "source": [
    "def hypothesis(x,theta):\n",
    "    a=np.dot(x,theta)\n",
    "    return sigmoid(a)\n",
    "def sigmoid(z):\n",
    "    return 1/(1+np.exp(-z))\n",
    "\n",
    "def error(X,Y,theta):\n",
    "    m=X.shape[0]\n",
    "    err=0.0\n",
    "    for i in range(m):\n",
    "        err+=(Y[i]*np.log2(hypothesis(X[i],theta)))+(1-Y[i])*np.log2(1-hypothesis(X[i],theta))\n",
    "    return err/m\n",
    "def gradients(X,Y,theta):\n",
    "    n=X.shape[1]\n",
    "    grads=np.zeros((n,))\n",
    "    m=X.shape[0]\n",
    "    for j in range(n):\n",
    "        for i in range(X.shape[0]):\n",
    "            grads[j]+=(Y[i]-hypothesis(X[i],theta))*X[i][j]\n",
    "    return grads/m        \n",
    "def gradient_ascent(X,Y,learning_rate=0.1):\n",
    "    theta=np.zeros((X.shape[1],))\n",
    "    error_list=[]\n",
    "    for i in range(100):\n",
    "        e=error(X,Y,theta)\n",
    "        error_list.append(e)\n",
    "        grads=gradients(X,Y,theta)\n",
    "        for j in range(X.shape[1]):\n",
    "            theta[j]=theta[j]+learning_rate*grads[j]\n",
    "    return theta,error_list\n",
    "        "
   ]
  },
  {
   "cell_type": "code",
   "execution_count": 15,
   "metadata": {},
   "outputs": [],
   "source": [
    "theta,error_list=gradient_ascent(x_train,y_train)"
   ]
  },
  {
   "cell_type": "code",
   "execution_count": 16,
   "metadata": {},
   "outputs": [
    {
     "data": {
      "text/plain": [
       "array([-1.45238297,  0.0450712 ,  0.80210918])"
      ]
     },
     "execution_count": 16,
     "metadata": {},
     "output_type": "execute_result"
    }
   ],
   "source": [
    "theta"
   ]
  },
  {
   "cell_type": "code",
   "execution_count": 17,
   "metadata": {},
   "outputs": [
    {
     "data": {
      "text/plain": [
       "[array([-1.]),\n",
       " array([-0.80919916]),\n",
       " array([-0.75557458]),\n",
       " array([-0.73043482]),\n",
       " array([-0.71418965]),\n",
       " array([-0.70155796]),\n",
       " array([-0.6906812]),\n",
       " array([-0.6807907]),\n",
       " array([-0.67153193]),\n",
       " array([-0.66272729]),\n",
       " array([-0.65428122]),\n",
       " array([-0.6461385]),\n",
       " array([-0.63826478]),\n",
       " array([-0.63063686]),\n",
       " array([-0.62323779]),\n",
       " array([-0.61605422]),\n",
       " array([-0.60907498]),\n",
       " array([-0.6022903]),\n",
       " array([-0.59569136]),\n",
       " array([-0.58927007]),\n",
       " array([-0.58301884]),\n",
       " array([-0.57693058]),\n",
       " array([-0.57099856]),\n",
       " array([-0.56521643]),\n",
       " array([-0.55957814]),\n",
       " array([-0.55407798]),\n",
       " array([-0.54871049]),\n",
       " array([-0.54347051]),\n",
       " array([-0.53835309]),\n",
       " array([-0.53335358]),\n",
       " array([-0.5284675]),\n",
       " array([-0.52369062]),\n",
       " array([-0.51901891]),\n",
       " array([-0.51444853]),\n",
       " array([-0.50997581]),\n",
       " array([-0.50559728]),\n",
       " array([-0.50130962]),\n",
       " array([-0.49710965]),\n",
       " array([-0.49299438]),\n",
       " array([-0.48896092]),\n",
       " array([-0.48500653]),\n",
       " array([-0.4811286]),\n",
       " array([-0.47732461]),\n",
       " array([-0.47359219]),\n",
       " array([-0.46992906]),\n",
       " array([-0.46633303]),\n",
       " array([-0.46280202]),\n",
       " array([-0.45933404]),\n",
       " array([-0.45592718]),\n",
       " array([-0.45257962]),\n",
       " array([-0.44928959]),\n",
       " array([-0.44605544]),\n",
       " array([-0.44287554]),\n",
       " array([-0.43974837]),\n",
       " array([-0.43667243]),\n",
       " array([-0.43364632]),\n",
       " array([-0.43066867]),\n",
       " array([-0.42773817]),\n",
       " array([-0.42485357]),\n",
       " array([-0.42201365]),\n",
       " array([-0.41921725]),\n",
       " array([-0.41646326]),\n",
       " array([-0.4137506]),\n",
       " array([-0.41107822]),\n",
       " array([-0.40844514]),\n",
       " array([-0.40585039]),\n",
       " array([-0.40329304]),\n",
       " array([-0.40077219]),\n",
       " array([-0.39828698]),\n",
       " array([-0.39583658]),\n",
       " array([-0.39342019]),\n",
       " array([-0.39103702]),\n",
       " array([-0.38868632]),\n",
       " array([-0.38636737]),\n",
       " array([-0.38407947]),\n",
       " array([-0.38182193]),\n",
       " array([-0.3795941]),\n",
       " array([-0.37739534]),\n",
       " array([-0.37522504]),\n",
       " array([-0.37308259]),\n",
       " array([-0.37096742]),\n",
       " array([-0.36887897]),\n",
       " array([-0.36681669]),\n",
       " array([-0.36478006]),\n",
       " array([-0.36276857]),\n",
       " array([-0.36078171]),\n",
       " array([-0.358819]),\n",
       " array([-0.35687998]),\n",
       " array([-0.35496419]),\n",
       " array([-0.35307119]),\n",
       " array([-0.35120055]),\n",
       " array([-0.34935185]),\n",
       " array([-0.34752468]),\n",
       " array([-0.34571864]),\n",
       " array([-0.34393336]),\n",
       " array([-0.34216846]),\n",
       " array([-0.34042357]),\n",
       " array([-0.33869833]),\n",
       " array([-0.33699241]),\n",
       " array([-0.33530546])]"
      ]
     },
     "execution_count": 17,
     "metadata": {},
     "output_type": "execute_result"
    }
   ],
   "source": [
    "error_list\n"
   ]
  },
  {
   "cell_type": "code",
   "execution_count": 27,
   "metadata": {},
   "outputs": [],
   "source": [
    "y_pred=hypothesis(x_test,theta)"
   ]
  },
  {
   "cell_type": "code",
   "execution_count": null,
   "metadata": {},
   "outputs": [],
   "source": []
  },
  {
   "cell_type": "code",
   "execution_count": null,
   "metadata": {},
   "outputs": [],
   "source": []
  },
  {
   "cell_type": "code",
   "execution_count": 18,
   "metadata": {},
   "outputs": [
    {
     "data": {
      "text/plain": [
       "[<matplotlib.lines.Line2D at 0x7f5e97d60320>]"
      ]
     },
     "execution_count": 18,
     "metadata": {},
     "output_type": "execute_result"
    },
    {
     "data": {
      "image/png": "[encoded data removed]",
      "text/plain": [
       "<Figure size 432x288 with 1 Axes>"
      ]
     },
     "metadata": {
      "needs_background": "light"
     },
     "output_type": "display_data"
    }
   ],
   "source": [
    "plt.plot(error_list)"
   ]
  },
  {
   "cell_type": "code",
   "execution_count": 20,
   "metadata": {},
   "outputs": [],
   "source": [
    "split=int(0.8*x_train.shape[0])"
   ]
  },
  {
   "cell_type": "code",
   "execution_count": 22,
   "metadata": {},
   "outputs": [],
   "source": [
    "x_test=x_train[split:]\n",
    "y_test=y_train[split:]"
   ]
  },
  {
   "cell_type": "code",
   "execution_count": 23,
   "metadata": {},
   "outputs": [
    {
     "data": {
      "text/plain": [
       "(160, 3)"
      ]
     },
     "execution_count": 23,
     "metadata": {},
     "output_type": "execute_result"
    }
   ],
   "source": [
    "x_test.shape"
   ]
  },
  {
   "cell_type": "code",
   "execution_count": 24,
   "metadata": {},
   "outputs": [
    {
     "data": {
      "text/plain": [
       "(160, 1)"
      ]
     },
     "execution_count": 24,
     "metadata": {},
     "output_type": "execute_result"
    }
   ],
   "source": [
    "y_test.shape"
   ]
  },
  {
   "cell_type": "code",
   "execution_count": 22,
   "metadata": {},
   "outputs": [],
   "source": [
    "ones=np.ones((x_train.shape[0],1))\n",
    "x_train1=np.hstack((ones,x_train))"
   ]
  },
  {
   "cell_type": "code",
   "execution_count": 28,
   "metadata": {},
   "outputs": [
    {
     "ename": "NameError",
     "evalue": "name 'x_train1' is not defined",
     "output_type": "error",
     "traceback": [
      "\u001b[0;31m---------------------------------------------------------------------------\u001b[0m",
      "\u001b[0;31mNameError\u001b[0m                                 Traceback (most recent call last)",
      "\u001b[0;32m<ipython-input-28-9a9d77d91b98>\u001b[0m in \u001b[0;36m<module>\u001b[0;34m\u001b[0m\n\u001b[0;32m----> 1\u001b[0;31m \u001b[0mx_train1\u001b[0m\u001b[0;34m.\u001b[0m\u001b[0mshape\u001b[0m\u001b[0;34m\u001b[0m\u001b[0;34m\u001b[0m\u001b[0m\n\u001b[0m",
      "\u001b[0;31mNameError\u001b[0m: name 'x_train1' is not defined"
     ]
    }
   ],
   "source": [
    "x_train1.shape"
   ]
  },
  {
   "cell_type": "markdown",
   "metadata": {},
   "source": [
    "# Logistic regression functions"
   ]
  },
  {
   "cell_type": "markdown",
   "metadata": {},
   "source": [
    "# Implementation"
   ]
  },
  {
   "cell_type": "code",
   "execution_count": 15,
   "metadata": {},
   "outputs": [],
   "source": []
  },
  {
   "cell_type": "code",
   "execution_count": 16,
   "metadata": {},
   "outputs": [],
   "source": []
  },
  {
   "cell_type": "code",
   "execution_count": 35,
   "metadata": {},
   "outputs": [
    {
     "data": {
      "text/plain": [
       "(800,)"
      ]
     },
     "execution_count": 35,
     "metadata": {},
     "output_type": "execute_result"
    }
   ],
   "source": []
  },
  {
   "cell_type": "code",
   "execution_count": 17,
   "metadata": {},
   "outputs": [
    {
     "name": "stdout",
     "output_type": "stream",
     "text": [
      "[-3.45546047  0.27598126  1.3187944 ]\n"
     ]
    }
   ],
   "source": []
  },
  {
   "cell_type": "code",
   "execution_count": 18,
   "metadata": {},
   "outputs": [
    {
     "data": {
      "image/png": "[encoded data removed]",
      "text/plain": [
       "<Figure size 432x288 with 1 Axes>"
      ]
     },
     "metadata": {
      "needs_background": "light"
     },
     "output_type": "display_data"
    }
   ],
   "source": []
  },
  {
   "cell_type": "code",
   "execution_count": 19,
   "metadata": {},
   "outputs": [],
   "source": []
  },
  {
   "cell_type": "code",
   "execution_count": 20,
   "metadata": {},
   "outputs": [
    {
     "data": {
      "text/plain": [
       "(3,)"
      ]
     },
     "execution_count": 20,
     "metadata": {},
     "output_type": "execute_result"
    }
   ],
   "source": []
  },
  {
   "cell_type": "markdown",
   "metadata": {},
   "source": [
    "# calculatig result"
   ]
  },
  {
   "cell_type": "code",
   "execution_count": 21,
   "metadata": {},
   "outputs": [],
   "source": [
    "result=[]\n",
    "ones=np.ones((X_test.shape[0],1))\n",
    "x_test=np.hstack((ones,X_test))\n",
    "for i in range(X_test.shape[0]):\n",
    "    if hypothesis(theta,x_test[i])>0.5:\n",
    "        result.append(1)\n",
    "    else:\n",
    "        result.append(0)"
   ]
  },
  {
   "cell_type": "code",
   "execution_count": 24,
   "metadata": {},
   "outputs": [
    {
     "data": {
      "text/plain": [
       "0.9625"
      ]
     },
     "execution_count": 24,
     "metadata": {},
     "output_type": "execute_result"
    }
   ],
   "source": [
    "(result==Y_test).sum()/Y_test.shape[0]"
   ]
  },
  {
   "cell_type": "markdown",
   "metadata": {},
   "source": [
    "# making prediction"
   ]
  },
  {
   "cell_type": "code",
   "execution_count": 32,
   "metadata": {},
   "outputs": [
    {
     "data": {
      "image/png": "[encoded data removed]",
      "text/plain": [
       "<Figure size 432x288 with 1 Axes>"
      ]
     },
     "metadata": {
      "needs_background": "light"
     },
     "output_type": "display_data"
    }
   ],
   "source": [
    "def drawline():\n",
    "    a=np.linspace(-3,6,10)\n",
    "    x2=-(theta[0]+theta[1]*a)/theta[2]\n",
    "    plt.scatter(x_train[:,1],x_train[:,2],c=Y_train)\n",
    "    plt.plot(a,x2)\n",
    "drawline()    "
   ]
  },
  {
   "cell_type": "code",
   "execution_count": 25,
   "metadata": {},
   "outputs": [
    {
     "data": {
      "text/plain": [
       "array([-3., -2., -1.,  0.,  1.,  2.,  3.,  4.,  5.,  6.])"
      ]
     },
     "execution_count": 25,
     "metadata": {},
     "output_type": "execute_result"
    }
   ],
   "source": [
    "np.linspace(-3,6,10)"
   ]
  }
 ],
 "metadata": {
  "kernelspec": {
   "display_name": "Python 3",
   "language": "python",
   "name": "python3"
  },
  "language_info": {
   "codemirror_mode": {
    "name": "ipython",
    "version": 3
   },
   "file_extension": ".py",
   "mimetype": "text/x-python",
   "name": "python",
   "nbconvert_exporter": "python",
   "pygments_lexer": "ipython3",
   "version": "3.7.3"
  }
 },
 "nbformat": 4,
 "nbformat_minor": 2
}
