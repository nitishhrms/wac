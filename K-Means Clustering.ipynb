{
 "cells": [
  {
   "cell_type": "markdown",
   "metadata": {},
   "source": [
    "# K-Means\n",
    "- Common clustering technique, helps to solve many problems efficiently.\n",
    "- K-Means is an example of Hard Clustering, where every point belongs only to one cluster.\n",
    "\n",
    "## Motivation Problem - *Pizza Parlour Study*\n",
    "\n",
    "**Problem Statement** Given the list of locations of customers who frequently order Pizza we want to find out optimal locations of Pizza Parlours where they should be opened.\n",
    "\n",
    "<img src=\"pizza1.png\" alt=\"Pizza-1\" style=\"width: 400px;\"/>\n",
    "\n",
    "**Step-1** : Initialise Pizza Parlour Centers randomly.\n",
    "<img src=\"pizza2.png\" alt=\"Pizza-2\" style=\"width: 400px;\"/>\n",
    "\n",
    "**Step-2** : Assign each customer to its nearest Pizza Center.\n",
    "<img src=\"pizza3.png\" alt=\"Pizza-3\" style=\"width: 400px;\"/>\n",
    "\n",
    "**Step-3** : Update the Center Location by taking mean of customers assigned to it.\n",
    "<img src=\"pizza4.png\" alt=\"Pizza-4\" style=\"width: 400px;\"/>\n",
    "\n",
    "**Step-4** : Repeat Steps 2 and 3 Until Convergence.\n",
    "<img src=\"pizza5.png\" alt=\"Pizza-5\" style=\"width: 400px;\"/>"
   ]
  },
  {
   "cell_type": "markdown",
   "metadata": {},
   "source": [
    "## K-Means Algorithm\n",
    "\n",
    "**Input Data** : X = {x1,...,xN}\n",
    "\n",
    "**Goal** : Partition the data among some K number of clusters. Let us assume K is known to us.\n",
    "\n",
    "Let µk denote the center of Kth Cluster (uk will be vector)\n",
    "\n",
    "So we need to ﬁnd an assignment of data points to clusters,\n",
    "as well as a set of cluster centers{µk}, such that the sum of the squares \n",
    "of the distances of each data point to its closest cluster center µk, is a minimum. \n",
    "\n"
   ]
  },
  {
   "cell_type": "markdown",
   "metadata": {},
   "source": [
    "\n",
    "<img src=\"k-means.png\" alt=\"Pizza-1\" style=\"width: 600px;\"/>\n"
   ]
  },
  {
   "cell_type": "markdown",
   "metadata": {},
   "source": [
    "## Implementation\n",
    "\n"
   ]
  },
  {
   "cell_type": "code",
   "execution_count": 1,
   "metadata": {},
   "outputs": [
    {
     "name": "stderr",
     "output_type": "stream",
     "text": [
      "/home/nitish/snap/jupyter/common/lib/python3.7/site-packages/joblib/_multiprocessing_helpers.py:45: UserWarning: [Errno 13] Permission denied.  joblib will operate in serial mode\n",
      "  warnings.warn('%s.  joblib will operate in serial mode' % (e,))\n"
     ]
    }
   ],
   "source": [
    "import numpy as np\n",
    "import matplotlib.pyplot as plt\n",
    "from sklearn.datasets import make_blobs"
   ]
  },
  {
   "cell_type": "code",
   "execution_count": 2,
   "metadata": {},
   "outputs": [],
   "source": [
    "X,y=make_blobs(n_samples=500,n_features=2,centers=5,random_state=3)"
   ]
  },
  {
   "cell_type": "code",
   "execution_count": 3,
   "metadata": {},
   "outputs": [
    {
     "data": {
      "image/png": "[encoded data removed]",
      "text/plain": [
       "<Figure size 432x288 with 1 Axes>"
      ]
     },
     "metadata": {
      "needs_background": "light"
     },
     "output_type": "display_data"
    }
   ],
   "source": [
    "plt.figure(0)\n",
    "plt.scatter(X[:,0],X[:,1],c='blue')\n",
    "plt.show()"
   ]
  },
  {
   "cell_type": "code",
   "execution_count": 4,
   "metadata": {},
   "outputs": [
    {
     "data": {
      "text/plain": [
       "(500, 2)"
      ]
     },
     "execution_count": 4,
     "metadata": {},
     "output_type": "execute_result"
    }
   ],
   "source": [
    "X.shape"
   ]
  },
  {
   "cell_type": "markdown",
   "metadata": {},
   "source": [
    "## Dataset Preparation"
   ]
  },
  {
   "cell_type": "code",
   "execution_count": 5,
   "metadata": {},
   "outputs": [],
   "source": [
    "clusters={}\n",
    "k=5\n",
    "color  = [\"green\",\"red\",\"blue\",\"yellow\",\"orange\"]\n",
    "##center,##color,##points\n",
    "\n",
    "for i in range(k):\n",
    "    point=[]\n",
    "    center = 10*(2*np.random.random((X.shape[1],))-1)\n",
    "    cluster={'points':point,\n",
    "            'color':color[i],\n",
    "            'center':center}\n",
    "    clusters[i]=cluster"
   ]
  },
  {
   "cell_type": "code",
   "execution_count": 6,
   "metadata": {},
   "outputs": [
    {
     "data": {
      "text/plain": [
       "{0: {'points': [],\n",
       "  'color': 'green',\n",
       "  'center': array([4.83202641, 6.85064725])},\n",
       " 1: {'points': [], 'color': 'red', 'center': array([5.98465403, 6.75841404])},\n",
       " 2: {'points': [],\n",
       "  'color': 'blue',\n",
       "  'center': array([-0.31947279,  4.07588739])},\n",
       " 3: {'points': [],\n",
       "  'color': 'yellow',\n",
       "  'center': array([-1.48673408, -6.49630806])},\n",
       " 4: {'points': [],\n",
       "  'color': 'orange',\n",
       "  'center': array([-7.80655637,  8.87846905])}}"
      ]
     },
     "execution_count": 6,
     "metadata": {},
     "output_type": "execute_result"
    }
   ],
   "source": [
    "clusters"
   ]
  },
  {
   "cell_type": "code",
   "execution_count": 7,
   "metadata": {},
   "outputs": [],
   "source": [
    "def distance(v1,v2):\n",
    "    return np.sqrt(np.sum((v1-v2)**2))"
   ]
  },
  {
   "cell_type": "code",
   "execution_count": 8,
   "metadata": {},
   "outputs": [
    {
     "data": {
      "text/plain": [
       "2.8284271247461903"
      ]
     },
     "execution_count": 8,
     "metadata": {},
     "output_type": "execute_result"
    }
   ],
   "source": [
    "distance(np.array([1,2]),np.array([3,4]))"
   ]
  },
  {
   "cell_type": "code",
   "execution_count": 9,
   "metadata": {},
   "outputs": [
    {
     "data": {
      "image/png": "[encoded data removed]",
      "text/plain": [
       "<Figure size 432x288 with 1 Axes>"
      ]
     },
     "metadata": {
      "needs_background": "light"
     },
     "output_type": "display_data"
    }
   ],
   "source": [
    "\n",
    "for i in range(k):\n",
    "    plt.scatter(clusters[i]['center'][0],clusters[i]['center'][1],marker='*')\n"
   ]
  },
  {
   "cell_type": "code",
   "execution_count": 10,
   "metadata": {},
   "outputs": [],
   "source": [
    "def assignPointsTocluster(clusters):\n",
    "    for i in range(X.shape[0]):\n",
    "        cur_x=X[i]\n",
    "        dist=[]\n",
    "        for ix in range(k):\n",
    "            d=distance(cur_x,clusters[ix]['center'])\n",
    "            dist.append(d)\n",
    "        min_cluster=np.argmin(dist)\n",
    "        clusters[min_cluster]['points'].append(cur_x)      \n",
    "def update_clusters(clusters):\n",
    "    \n",
    "    \n",
    "    for kx in range(k):\n",
    "        pts=np.array(clusters[kx]['points'])\n",
    "        if pts.shape[0]>0:\n",
    "            new_u=pts.mean(axis=0)\n",
    "            clusters[kx]['center']=new_u\n",
    "            clusters[kx]['points']=[]\n",
    "def plot_points(clusters):\n",
    "    for i in range(k):\n",
    "        pts=np.array(clusters[i]['points'])\n",
    "        try:\n",
    "            plt.scatter(pts[:,0],pts[:,1],c=clusters[i]['color'])\n",
    "        except:\n",
    "            pass\n",
    "        center=clusters[i]['center']\n",
    "        plt.scatter(center[0],center[1],marker='*',c='black')              "
   ]
  },
  {
   "cell_type": "code",
   "execution_count": 46,
   "metadata": {},
   "outputs": [],
   "source": []
  },
  {
   "cell_type": "code",
   "execution_count": 12,
   "metadata": {},
   "outputs": [
    {
     "data": {
      "image/png": "[encoded data removed]",
      "text/plain": [
       "<Figure size 432x288 with 1 Axes>"
      ]
     },
     "metadata": {
      "needs_background": "light"
     },
     "output_type": "display_data"
    }
   ],
   "source": [
    "assignPointsTocluster(clusters)\n",
    "plot_points(clusters)"
   ]
  },
  {
   "cell_type": "code",
   "execution_count": 17,
   "metadata": {},
   "outputs": [
    {
     "data": {
      "text/plain": [
       "array([[-4.30966728e+00,  4.64720131e-01],\n",
       "       [ 3.67547163e-01,  3.42549161e+00],\n",
       "       [ 7.83015344e+00,  6.45191895e+00],\n",
       "       [-4.61279528e+00, -3.23718160e-01],\n",
       "       [ 9.87858973e+00,  8.25212405e+00],\n",
       "       [-3.83108938e+00,  1.84312571e+00],\n",
       "       [ 2.24942910e+00,  4.31194285e+00],\n",
       "       [ 1.89024377e+00,  2.86941982e+00],\n",
       "       [-4.50348991e+00,  3.67682476e-01],\n",
       "       [-4.27714282e+00, -3.10635675e-01],\n",
       "       [-5.66856329e+00,  1.62517906e+00],\n",
       "       [ 1.65912133e+00,  4.41204316e+00],\n",
       "       [ 1.81718201e-01,  5.50794891e+00],\n",
       "       [ 6.57270976e+00,  6.78213995e+00],\n",
       "       [ 4.70598104e-01,  2.61647914e+00],\n",
       "       [ 6.59687292e-01,  2.41981542e+00],\n",
       "       [-3.11468967e+00,  8.57972760e-01],\n",
       "       [ 5.91386682e+00,  6.76613883e+00],\n",
       "       [ 8.27732011e+00,  7.03345544e+00],\n",
       "       [-6.21229878e+00, -7.44223006e-01],\n",
       "       [ 2.02914149e+00,  5.01575429e+00],\n",
       "       [ 7.94390314e+00,  9.02364127e+00],\n",
       "       [ 7.93803128e+00,  6.96109831e+00],\n",
       "       [ 7.94997360e+00,  8.71129403e+00],\n",
       "       [-2.28165277e-01,  3.53653954e+00],\n",
       "       [-3.34606132e+00,  7.08671007e-01],\n",
       "       [-5.20226450e+00,  4.87145529e-01],\n",
       "       [ 2.12414555e+00,  5.28234711e+00],\n",
       "       [ 8.18543372e-01,  5.93760148e+00],\n",
       "       [ 1.99832549e+00,  3.06188882e+00],\n",
       "       [ 4.85375907e-01,  3.43242981e+00],\n",
       "       [ 9.38517091e-01,  4.43902495e+00],\n",
       "       [ 7.94799246e+00,  8.70475868e+00],\n",
       "       [-1.89977970e+00,  3.19111595e+00],\n",
       "       [-3.78877994e+00, -2.48326959e-02],\n",
       "       [ 2.06410556e+00,  5.49669427e+00],\n",
       "       [-4.05965548e+00, -9.40831272e-01],\n",
       "       [ 4.13072947e-01,  2.24848441e+00],\n",
       "       [-2.19341554e+00,  1.41161044e+00],\n",
       "       [ 7.48976134e+00,  8.30645936e+00],\n",
       "       [-5.40280714e+00,  2.76167537e-01],\n",
       "       [-4.76912553e+00,  2.12737896e+00],\n",
       "       [-5.09399613e+00,  6.04937011e-02],\n",
       "       [ 9.72139883e-01,  3.68573842e+00],\n",
       "       [ 6.82922956e+00,  6.89565316e+00],\n",
       "       [ 6.74615794e+00,  6.28656553e+00],\n",
       "       [ 1.45390466e+00,  6.10193491e+00],\n",
       "       [ 2.62623258e-01,  2.41884620e+00],\n",
       "       [ 1.76101432e+00,  6.13906724e+00],\n",
       "       [-4.23585307e+00,  1.53171933e+00],\n",
       "       [-3.07798356e+00,  2.09830710e+00],\n",
       "       [ 8.37573664e+00,  7.49328540e+00],\n",
       "       [ 8.14649674e+00,  9.18994753e+00],\n",
       "       [ 8.71290246e+00,  9.51272832e+00],\n",
       "       [-4.89793102e+00,  9.48017840e-01],\n",
       "       [ 2.13993601e+00,  4.03104222e+00],\n",
       "       [-1.37002685e+00,  4.68547231e-01],\n",
       "       [ 1.16890375e+00,  3.09876118e+00],\n",
       "       [-4.17946106e+00,  6.41187825e-01],\n",
       "       [ 3.37745372e-01,  4.58939153e+00],\n",
       "       [-4.77040684e+00, -1.33000372e+00],\n",
       "       [ 1.64120302e+00,  4.00244309e+00],\n",
       "       [-3.79805451e-01,  5.55461936e+00],\n",
       "       [ 6.53445039e+00,  5.64406946e+00],\n",
       "       [ 8.17813526e+00,  4.94189157e+00],\n",
       "       [ 3.25997374e-01,  4.64937093e+00],\n",
       "       [-7.82708843e-03,  3.44996325e+00],\n",
       "       [-4.70716987e+00, -1.45908253e+00],\n",
       "       [ 1.16102127e+00,  5.33083874e+00],\n",
       "       [-3.14295310e+00,  8.48296281e-01],\n",
       "       [ 1.57467126e+00,  3.68459179e+00],\n",
       "       [-4.31126623e+00, -1.40590907e+00],\n",
       "       [-2.45248779e+00,  9.10604376e-01],\n",
       "       [ 3.41230541e-01,  4.31357332e+00],\n",
       "       [-5.04421371e+00,  1.28823603e+00],\n",
       "       [-4.04840818e+00, -1.07270909e+00],\n",
       "       [-3.41294006e+00,  1.58279495e+00],\n",
       "       [ 7.24383052e+00,  6.86370566e+00],\n",
       "       [-4.64175137e+00,  2.20728992e+00],\n",
       "       [-3.53407542e+00, -3.43821315e-01],\n",
       "       [-4.20053294e+00,  7.00080891e-01],\n",
       "       [-3.31907313e+00, -4.31879919e-01],\n",
       "       [-3.11210686e+00,  3.83071614e-01],\n",
       "       [ 1.24170832e+00,  4.44999162e+00],\n",
       "       [ 8.76346757e+00,  6.06021061e+00],\n",
       "       [ 7.98624761e+00,  8.16088879e+00],\n",
       "       [-3.75593847e+00,  6.75383317e-02],\n",
       "       [ 6.71984229e+00,  6.60383204e+00],\n",
       "       [-4.05389740e+00,  1.45816862e+00],\n",
       "       [ 9.90527186e+00,  8.59284963e+00],\n",
       "       [ 7.23252458e+00,  7.43381789e+00],\n",
       "       [ 8.72029670e+00,  8.84486991e+00],\n",
       "       [ 9.69809097e+00,  1.02417204e+01],\n",
       "       [ 7.99695374e+00,  8.86536463e+00],\n",
       "       [ 7.20168160e+00,  9.54529259e+00],\n",
       "       [ 2.50210641e+00,  4.39967272e+00],\n",
       "       [ 7.70242027e+00,  5.65361766e+00],\n",
       "       [-4.82069612e+00, -4.37863108e-01],\n",
       "       [ 7.38569849e-01,  3.80819747e+00],\n",
       "       [ 9.33216570e-01,  3.53595578e+00],\n",
       "       [ 5.99760036e-01,  4.88761411e+00],\n",
       "       [ 7.85264031e+00,  9.42675214e+00],\n",
       "       [-5.41754185e+00,  7.57656618e-02],\n",
       "       [ 8.09939587e+00,  8.37889957e+00],\n",
       "       [-3.03464043e+00,  1.06322949e-01],\n",
       "       [-4.41924270e+00,  1.10189178e+00],\n",
       "       [ 1.63003514e+00,  3.32504418e+00],\n",
       "       [-1.23229972e+00,  3.89519459e+00],\n",
       "       [ 7.81709486e+00,  7.65312624e+00],\n",
       "       [ 8.97488427e+00,  7.89555841e+00],\n",
       "       [ 2.50350118e+00,  3.04465577e+00],\n",
       "       [ 4.24879313e-01,  3.64653908e+00],\n",
       "       [ 8.14659632e+00,  6.13105474e+00],\n",
       "       [ 6.86314484e+00,  8.26965630e+00],\n",
       "       [ 2.47121701e-01,  3.93292573e+00],\n",
       "       [-3.11648504e+00, -6.55823557e-01],\n",
       "       [ 9.36217113e-01,  4.72744197e+00],\n",
       "       [ 9.35046143e+00,  6.52774577e+00],\n",
       "       [-1.50579275e+00,  1.45333077e-01],\n",
       "       [-4.38019548e+00,  2.67413973e+00],\n",
       "       [ 5.58697264e-01,  5.02224046e+00],\n",
       "       [ 4.19308410e-01,  3.57436207e+00],\n",
       "       [ 8.14212501e+00,  7.86150161e+00],\n",
       "       [ 5.97210216e+00,  8.02245551e+00],\n",
       "       [-3.58831711e+00,  2.28743063e+00],\n",
       "       [ 8.14159939e+00,  7.87870487e+00],\n",
       "       [-4.53094061e+00,  4.69377195e-01],\n",
       "       [-3.73612426e+00, -5.66156939e-01],\n",
       "       [-3.61995355e+00, -7.72691339e-02],\n",
       "       [ 1.66102004e+00,  4.47601683e+00],\n",
       "       [-4.65743008e+00,  5.07750808e-02],\n",
       "       [ 7.94965586e+00,  5.70844417e+00],\n",
       "       [ 8.55442307e+00,  8.00631917e+00],\n",
       "       [-4.75325418e+00,  4.82339151e-01],\n",
       "       [ 7.28840679e+00,  5.89678965e+00],\n",
       "       [ 9.91853581e-01,  3.27429903e+00],\n",
       "       [ 7.52936093e+00,  8.82301153e+00],\n",
       "       [ 1.06599169e+00,  3.75827904e+00],\n",
       "       [ 1.83077259e+00,  3.64296470e+00],\n",
       "       [ 7.62703453e+00,  7.46119306e+00],\n",
       "       [ 4.41249631e-01,  4.05350212e+00],\n",
       "       [ 9.15681670e+00,  6.41064612e+00],\n",
       "       [-2.97906702e-01,  5.04757883e+00],\n",
       "       [ 8.14662281e+00,  9.89233641e+00],\n",
       "       [ 8.47551697e+00,  7.08823033e+00],\n",
       "       [-3.54710961e-01,  4.40151964e+00],\n",
       "       [-4.44314571e+00, -1.08149453e+00],\n",
       "       [-4.69303421e+00,  9.37086983e-02],\n",
       "       [ 1.86747700e+00,  4.64920578e+00],\n",
       "       [-1.69088476e-01,  3.95730655e+00],\n",
       "       [-5.60177653e+00,  9.82273176e-01],\n",
       "       [ 6.98877990e+00,  7.68622971e+00],\n",
       "       [ 1.86179146e+00,  2.30206692e+00],\n",
       "       [-3.88240289e+00, -2.23439207e-01],\n",
       "       [ 8.47867953e-01,  6.07223326e+00],\n",
       "       [-4.34960382e+00,  1.93922130e+00],\n",
       "       [ 7.65065567e+00,  7.91088859e+00],\n",
       "       [ 5.18241772e+00,  7.49576117e+00],\n",
       "       [-4.97781991e+00,  2.89297633e-01],\n",
       "       [-4.83162264e+00,  1.84793506e+00],\n",
       "       [ 8.35451948e+00,  7.35529895e+00],\n",
       "       [ 9.75584004e+00,  6.72005899e+00],\n",
       "       [ 7.00933173e+00,  6.43231211e+00],\n",
       "       [ 5.59618713e-02,  4.54025169e+00],\n",
       "       [ 7.38303970e+00,  8.22270631e+00],\n",
       "       [-3.79365481e+00, -1.70575077e-01],\n",
       "       [ 1.69502965e+00,  3.30751928e+00],\n",
       "       [ 1.89727609e+00,  5.87252952e+00],\n",
       "       [ 7.80951520e+00,  8.29925172e+00],\n",
       "       [-2.46242867e+00, -2.14266263e+00],\n",
       "       [-3.09249567e+00,  2.40474126e-01],\n",
       "       [ 4.99310127e-01,  3.97388479e+00],\n",
       "       [ 8.11401978e+00,  7.69436437e+00],\n",
       "       [-5.08839992e+00,  3.04967310e-01],\n",
       "       [ 9.36220104e+00,  8.83418050e+00],\n",
       "       [ 8.61451200e-01,  5.93258376e+00],\n",
       "       [-4.90733870e+00,  1.81608718e-01],\n",
       "       [-4.32252525e+00,  1.21364047e+00],\n",
       "       [ 7.93366688e+00,  7.29761097e+00],\n",
       "       [ 2.12191957e-01,  1.74387328e+00],\n",
       "       [-4.45650534e+00,  6.51561362e-01],\n",
       "       [-6.86701390e+00,  2.34972899e-01],\n",
       "       [-6.07327394e-01,  4.80963190e+00],\n",
       "       [ 9.21660298e-02,  3.13908069e+00],\n",
       "       [ 7.24655467e+00,  9.32582727e+00],\n",
       "       [ 9.47817757e+00,  8.43895479e+00],\n",
       "       [ 1.49974640e+00,  4.83917285e+00],\n",
       "       [ 8.09033985e+00,  9.11866694e+00],\n",
       "       [-3.08725214e+00,  8.56244459e-01],\n",
       "       [-8.97282312e-03,  5.06229490e+00],\n",
       "       [ 6.86057221e+00,  8.18024935e+00],\n",
       "       [ 8.22174257e+00,  6.76682531e+00],\n",
       "       [-1.46997889e+00,  8.44025993e-01],\n",
       "       [ 7.15751977e-01,  6.32110579e+00],\n",
       "       [ 9.12358400e+00,  7.04535044e+00],\n",
       "       [ 7.00340637e+00,  7.88613194e+00],\n",
       "       [ 8.79557166e+00,  6.43346468e+00],\n",
       "       [ 1.42075754e-01,  4.19267027e+00],\n",
       "       [-5.25249072e+00,  5.87422076e-01],\n",
       "       [ 9.27928139e+00,  7.60627164e+00]])"
      ]
     },
     "execution_count": 17,
     "metadata": {},
     "output_type": "execute_result"
    }
   ],
   "source": []
  },
  {
   "cell_type": "code",
   "execution_count": 18,
   "metadata": {},
   "outputs": [
    {
     "data": {
      "image/png": "[encoded data removed]",
      "text/plain": [
       "<Figure size 432x288 with 1 Axes>"
      ]
     },
     "metadata": {
      "needs_background": "light"
     },
     "output_type": "display_data"
    }
   ],
   "source": [
    "\n",
    "assignPointsTocluster(clusters)\n",
    "plot_points(clusters)\n",
    "update_clusters(clusters)"
   ]
  },
  {
   "cell_type": "code",
   "execution_count": 29,
   "metadata": {},
   "outputs": [
    {
     "name": "stdout",
     "output_type": "stream",
     "text": [
      "WARNING: pip is being invoked by an old script wrapper. This will fail in a future version of pip.\n",
      "Please see https://github.com/pypa/pip/issues/5599 for advice on fixing the underlying issue.\n",
      "To avoid this problem you can invoke Python with '-m pip' instead of running pip directly.\n",
      "Requirement already satisfied: matplotlib in /home/nitish/snap/jupyter/common/lib/python3.7/site-packages (3.3.0)\n",
      "Requirement already satisfied: pillow>=6.2.0 in /home/nitish/snap/jupyter/common/lib/python3.7/site-packages (from matplotlib) (7.2.0)\n",
      "Requirement already satisfied: cycler>=0.10 in /home/nitish/snap/jupyter/common/lib/python3.7/site-packages (from matplotlib) (0.10.0)\n",
      "Requirement already satisfied: pyparsing!=2.0.4,!=2.1.2,!=2.1.6,>=2.0.3 in /home/nitish/snap/jupyter/common/lib/python3.7/site-packages (from matplotlib) (2.4.7)\n",
      "Requirement already satisfied: kiwisolver>=1.0.1 in /home/nitish/snap/jupyter/common/lib/python3.7/site-packages (from matplotlib) (1.2.0)\n",
      "Requirement already satisfied: python-dateutil>=2.1 in /snap/jupyter/6/lib/python3.7/site-packages (from matplotlib) (2.8.0)\n",
      "Requirement already satisfied: numpy>=1.15 in /home/nitish/snap/jupyter/common/lib/python3.7/site-packages (from matplotlib) (1.19.0)\n",
      "Requirement already satisfied: six in /snap/jupyter/6/lib/python3.7/site-packages (from cycler>=0.10->matplotlib) (1.12.0)\n",
      "\u001b[33mWARNING: You are using pip version 20.1.1; however, version 20.2.2 is available.\n",
      "You should consider upgrading via the '/snap/jupyter/6/bin/python -m pip install --upgrade pip' command.\u001b[0m\n"
     ]
    }
   ],
   "source": []
  },
  {
   "cell_type": "code",
   "execution_count": null,
   "metadata": {},
   "outputs": [],
   "source": []
  },
  {
   "cell_type": "code",
   "execution_count": null,
   "metadata": {},
   "outputs": [],
   "source": []
  },
  {
   "cell_type": "code",
   "execution_count": 12,
   "metadata": {},
   "outputs": [
    {
     "data": {
      "text/plain": [
       "(1, 2)"
      ]
     },
     "execution_count": 12,
     "metadata": {},
     "output_type": "execute_result"
    }
   ],
   "source": []
  },
  {
   "cell_type": "code",
   "execution_count": 13,
   "metadata": {},
   "outputs": [
    {
     "data": {
      "text/plain": [
       "array([ 8, -9])"
      ]
     },
     "execution_count": 13,
     "metadata": {},
     "output_type": "execute_result"
    }
   ],
   "source": []
  },
  {
   "cell_type": "code",
   "execution_count": 14,
   "metadata": {},
   "outputs": [
    {
     "data": {
      "text/plain": [
       "<function RandomState.random>"
      ]
     },
     "execution_count": 14,
     "metadata": {},
     "output_type": "execute_result"
    }
   ],
   "source": []
  },
  {
   "cell_type": "code",
   "execution_count": null,
   "metadata": {},
   "outputs": [],
   "source": []
  },
  {
   "cell_type": "code",
   "execution_count": 15,
   "metadata": {},
   "outputs": [],
   "source": [
    "#center = 10*(2*np.random.random((X.shape[1],))-1)\n",
    "#print(center)"
   ]
  },
  {
   "cell_type": "code",
   "execution_count": 16,
   "metadata": {},
   "outputs": [],
   "source": [
    "#clusters"
   ]
  },
  {
   "cell_type": "markdown",
   "metadata": {},
   "source": [
    "# using scikit_learn"
   ]
  },
  {
   "cell_type": "code",
   "execution_count": 16,
   "metadata": {},
   "outputs": [],
   "source": [
    "import numpy as np\n",
    "import matplotlib.pyplot as plt\n",
    "from sklearn.datasets import make_blobs"
   ]
  },
  {
   "cell_type": "code",
   "execution_count": 17,
   "metadata": {},
   "outputs": [],
   "source": [
    "X,y=make_blobs(n_samples=500,n_features=2,centers=5,random_state=3)"
   ]
  },
  {
   "cell_type": "code",
   "execution_count": 18,
   "metadata": {},
   "outputs": [
    {
     "data": {
      "text/plain": [
       "<matplotlib.collections.PathCollection at 0x7f6776d69cc0>"
      ]
     },
     "execution_count": 18,
     "metadata": {},
     "output_type": "execute_result"
    },
    {
     "data": {
      "image/png": "[encoded data removed]",
      "text/plain": [
       "<Figure size 432x288 with 1 Axes>"
      ]
     },
     "metadata": {
      "needs_background": "light"
     },
     "output_type": "display_data"
    }
   ],
   "source": [
    "plt.scatter(X[:,0],X[:,1],c='y')"
   ]
  },
  {
   "cell_type": "code",
   "execution_count": 19,
   "metadata": {},
   "outputs": [],
   "source": [
    "from sklearn.cluster import KMeans"
   ]
  },
  {
   "cell_type": "code",
   "execution_count": 21,
   "metadata": {},
   "outputs": [],
   "source": [
    "km=KMeans(n_clusters=5)"
   ]
  },
  {
   "cell_type": "code",
   "execution_count": 30,
   "metadata": {},
   "outputs": [],
   "source": []
  },
  {
   "cell_type": "code",
   "execution_count": 22,
   "metadata": {},
   "outputs": [
    {
     "data": {
      "text/plain": [
       "KMeans(n_clusters=5)"
      ]
     },
     "execution_count": 22,
     "metadata": {},
     "output_type": "execute_result"
    }
   ],
   "source": [
    "km.fit(X)"
   ]
  },
  {
   "cell_type": "raw",
   "metadata": {},
   "source": [
    "cluster_centers=km.cluster_centers_"
   ]
  },
  {
   "cell_type": "code",
   "execution_count": 26,
   "metadata": {},
   "outputs": [],
   "source": [
    "cluster_centers=km.cluster_centers_"
   ]
  },
  {
   "cell_type": "code",
   "execution_count": 31,
   "metadata": {},
   "outputs": [
    {
     "name": "stdout",
     "output_type": "stream",
     "text": [
      "[[-3.97953526  0.19458336]\n",
      " [ 7.8649674   7.97988109]\n",
      " [-7.6726196  -5.69211059]\n",
      " [ 0.88641907  4.19441853]\n",
      " [-9.0671623  -0.96740759]]\n"
     ]
    }
   ],
   "source": [
    "print(cluster_centers)"
   ]
  },
  {
   "cell_type": "code",
   "execution_count": 27,
   "metadata": {},
   "outputs": [],
   "source": [
    "preds=km.labels_"
   ]
  },
  {
   "cell_type": "code",
   "execution_count": 33,
   "metadata": {},
   "outputs": [
    {
     "data": {
      "text/plain": [
       "array([2, 1, 0, 2, 2, 0, 4, 2, 1, 2, 1, 0, 1, 2, 0, 2, 1, 2, 2, 1, 3, 3,\n",
       "       2, 0, 2, 3, 4, 4, 0, 4, 2, 4, 3, 3, 2, 3, 1, 1, 2, 3, 3, 3, 4, 4,\n",
       "       0, 1, 1, 4, 4, 4, 1, 2, 4, 2, 2, 3, 2, 2, 1, 0, 1, 0, 0, 2, 4, 1,\n",
       "       0, 0, 3, 0, 3, 2, 3, 2, 3, 0, 2, 4, 3, 3, 0, 3, 0, 4, 1, 4, 0, 1,\n",
       "       4, 0, 4, 3, 2, 3, 3, 1, 2, 0, 0, 3, 1, 3, 0, 0, 1, 1, 1, 0, 0, 2,\n",
       "       1, 4, 2, 1, 0, 3, 1, 4, 3, 0, 1, 0, 4, 2, 3, 4, 4, 4, 2, 2, 0, 0,\n",
       "       2, 1, 1, 4, 0, 4, 0, 2, 2, 3, 0, 1, 4, 2, 1, 1, 2, 0, 2, 2, 0, 0,\n",
       "       1, 3, 3, 4, 0, 2, 3, 1, 4, 3, 1, 3, 1, 3, 3, 3, 4, 2, 3, 1, 3, 4,\n",
       "       2, 0, 1, 4, 1, 2, 1, 3, 4, 4, 3, 2, 0, 1, 3, 0, 4, 2, 4, 3, 0, 4,\n",
       "       2, 2, 2, 3, 3, 1, 2, 4, 4, 2, 1, 2, 2, 2, 3, 1, 0, 1, 2, 2, 1, 4,\n",
       "       0, 4, 4, 3, 2, 0, 2, 0, 4, 3, 0, 0, 2, 3, 2, 3, 0, 1, 0, 3, 3, 1,\n",
       "       2, 2, 0, 0, 3, 1, 3, 2, 4, 1, 4, 2, 4, 4, 4, 4, 1, 3, 1, 2, 3, 1,\n",
       "       4, 0, 1, 1, 1, 4, 2, 2, 0, 3, 3, 1, 0, 0, 2, 0, 4, 0, 1, 1, 4, 4,\n",
       "       3, 4, 4, 1, 3, 2, 0, 3, 0, 4, 0, 0, 1, 2, 3, 1, 3, 3, 2, 4, 3, 0,\n",
       "       3, 4, 2, 2, 0, 1, 3, 4, 1, 3, 0, 4, 1, 4, 2, 3, 4, 0, 0, 3, 3, 3,\n",
       "       2, 4, 3, 2, 1, 0, 0, 4, 1, 1, 0, 0, 4, 3, 3, 3, 2, 4, 1, 4, 2, 3,\n",
       "       1, 1, 0, 3, 3, 4, 3, 4, 0, 0, 0, 4, 3, 2, 3, 0, 4, 4, 1, 2, 1, 4,\n",
       "       2, 4, 0, 1, 3, 1, 0, 2, 2, 1, 1, 3, 1, 3, 4, 0, 1, 4, 2, 2, 1, 0,\n",
       "       3, 4, 2, 2, 2, 4, 1, 3, 1, 1, 1, 4, 3, 0, 1, 0, 0, 4, 0, 2, 0, 2,\n",
       "       1, 3, 3, 2, 1, 4, 2, 3, 0, 1, 4, 0, 4, 4, 1, 4, 0, 4, 1, 4, 0, 4,\n",
       "       2, 3, 3, 4, 3, 1, 3, 3, 4, 2, 2, 0, 4, 3, 0, 4, 0, 1, 0, 1, 2, 3,\n",
       "       0, 2, 0, 2, 2, 3, 2, 3, 4, 1, 1, 0, 2, 2, 4, 4, 1, 4, 4, 1, 4, 1,\n",
       "       1, 1, 4, 3, 4, 0, 1, 0, 0, 4, 0, 4, 3, 3, 4, 1], dtype=int32)"
      ]
     },
     "execution_count": 33,
     "metadata": {},
     "output_type": "execute_result"
    }
   ],
   "source": [
    "preds"
   ]
  },
  {
   "cell_type": "code",
   "execution_count": 29,
   "metadata": {},
   "outputs": [
    {
     "data": {
      "text/plain": [
       "<matplotlib.collections.PathCollection at 0x7f6771b78198>"
      ]
     },
     "execution_count": 29,
     "metadata": {},
     "output_type": "execute_result"
    },
    {
     "data": {
      "image/png": "[encoded data removed]",
      "text/plain": [
       "<Figure size 432x288 with 1 Axes>"
      ]
     },
     "metadata": {
      "needs_background": "light"
     },
     "output_type": "display_data"
    }
   ],
   "source": [
    "plt.scatter(X[:,0],X[:,1],c=preds)\n",
    "plt.scatter(cluster_centers[:,0],cluster_centers[:,1])"
   ]
  },
  {
   "cell_type": "code",
   "execution_count": 42,
   "metadata": {},
   "outputs": [],
   "source": [
    "preds=kmeans.labels_"
   ]
  },
  {
   "cell_type": "code",
   "execution_count": 40,
   "metadata": {},
   "outputs": [
    {
     "data": {
      "text/plain": [
       "(500, 2)"
      ]
     },
     "execution_count": 40,
     "metadata": {},
     "output_type": "execute_result"
    }
   ],
   "source": [
    "X.shape"
   ]
  },
  {
   "cell_type": "code",
   "execution_count": 44,
   "metadata": {},
   "outputs": [],
   "source": []
  },
  {
   "cell_type": "code",
   "execution_count": 9,
   "metadata": {},
   "outputs": [],
   "source": [
    "import matplotlib.pyplot as plt"
   ]
  },
  {
   "cell_type": "code",
   "execution_count": 2,
   "metadata": {},
   "outputs": [],
   "source": [
    "from sklearn.datasets import make_moons"
   ]
  },
  {
   "cell_type": "code",
   "execution_count": 41,
   "metadata": {},
   "outputs": [],
   "source": [
    "from sklearn.cluster import DBSCAN"
   ]
  },
  {
   "cell_type": "code",
   "execution_count": 42,
   "metadata": {},
   "outputs": [],
   "source": [
    "db=DBSCAN(eps=0.3,min_samples=5)"
   ]
  },
  {
   "cell_type": "code",
   "execution_count": 43,
   "metadata": {},
   "outputs": [],
   "source": [
    "X,y=make_moons(n_samples=100,noise=0.1)"
   ]
  },
  {
   "cell_type": "code",
   "execution_count": 44,
   "metadata": {},
   "outputs": [
    {
     "data": {
      "text/plain": [
       "<matplotlib.collections.PathCollection at 0x7f7f75ab9710>"
      ]
     },
     "execution_count": 44,
     "metadata": {},
     "output_type": "execute_result"
    },
    {
     "data": {
      "image/png": "[encoded data removed]",
      "text/plain": [
       "<Figure size 432x288 with 1 Axes>"
      ]
     },
     "metadata": {
      "needs_background": "light"
     },
     "output_type": "display_data"
    }
   ],
   "source": [
    "plt.scatter(X[:,0],X[:,1])"
   ]
  },
  {
   "cell_type": "code",
   "execution_count": 45,
   "metadata": {},
   "outputs": [
    {
     "data": {
      "text/plain": [
       "DBSCAN(eps=0.3)"
      ]
     },
     "execution_count": 45,
     "metadata": {},
     "output_type": "execute_result"
    }
   ],
   "source": [
    "db.fit(X)"
   ]
  },
  {
   "cell_type": "code",
   "execution_count": 46,
   "metadata": {},
   "outputs": [],
   "source": [
    "preds=db.labels_"
   ]
  },
  {
   "cell_type": "code",
   "execution_count": 49,
   "metadata": {},
   "outputs": [
    {
     "data": {
      "text/plain": [
       "array([ 0,  1,  0,  1,  1,  0,  1,  0,  1,  0,  0,  1,  1,  1,  0,  0,  1,\n",
       "        0,  0,  0,  0,  0,  1,  1,  1,  0,  1,  0,  1,  1,  0,  0,  1,  1,\n",
       "        0,  1,  0,  1,  0,  1,  0,  1,  0,  1,  0,  0,  0,  1,  1,  1,  1,\n",
       "        1,  0,  1,  0,  0,  0,  1,  1,  0,  1,  0,  0,  0,  1,  0,  0,  0,\n",
       "        0,  1,  1,  0,  1,  1,  1,  0,  1,  0,  1,  1,  1,  1,  1,  0,  1,\n",
       "        0,  1,  0,  0,  1,  0,  0,  0, -1,  1,  0,  1,  1, -1,  0])"
      ]
     },
     "execution_count": 49,
     "metadata": {},
     "output_type": "execute_result"
    }
   ],
   "source": [
    "db.fit_predict(X)"
   ]
  },
  {
   "cell_type": "code",
   "execution_count": 48,
   "metadata": {},
   "outputs": [
    {
     "name": "stdout",
     "output_type": "stream",
     "text": [
      "[ 0  1  0  1  1  0  1  0  1  0  0  1  1  1  0  0  1  0  0  0  0  0  1  1\n",
      "  1  0  1  0  1  1  0  0  1  1  0  1  0  1  0  1  0  1  0  1  0  0  0  1\n",
      "  1  1  1  1  0  1  0  0  0  1  1  0  1  0  0  0  1  0  0  0  0  1  1  0\n",
      "  1  1  1  0  1  0  1  1  1  1  1  0  1  0  1  0  0  1  0  0  0 -1  1  0\n",
      "  1  1 -1  0]\n"
     ]
    }
   ],
   "source": [
    "print(preds)"
   ]
  },
  {
   "cell_type": "code",
   "execution_count": 47,
   "metadata": {},
   "outputs": [
    {
     "data": {
      "text/plain": [
       "<matplotlib.collections.PathCollection at 0x7f7f75aa3518>"
      ]
     },
     "execution_count": 47,
     "metadata": {},
     "output_type": "execute_result"
    },
    {
     "data": {
      "image/png": "[encoded data removed]",
      "text/plain": [
       "<Figure size 432x288 with 1 Axes>"
      ]
     },
     "metadata": {
      "needs_background": "light"
     },
     "output_type": "display_data"
    }
   ],
   "source": [
    "plt.scatter(X[:,0],X[:,1],c=preds)"
   ]
  },
  {
   "cell_type": "code",
   "execution_count": 86,
   "metadata": {},
   "outputs": [
    {
     "name": "stdout",
     "output_type": "stream",
     "text": [
      "[0 0 0 0 0 0 0 0 0 0 0 0 0 0 0 0 0 0 0 0 0 0 0 0 0 0 0 0 0 0 0 0 0 0 0 0 0\n",
      " 0 0 0 0 0 0 0 0 0 0 0 0 0 0 0 0 0 0 0 0 0 0 0 0 0 0 0 0 0 0 0 0 0 0 0 0 0\n",
      " 0 0 0 0 0 0 0 0 0 0 0 0 0 0 0 0 0 0 0 0 0 0 0 0 0 0 0 0 0 0 0 0 0 0 0 0 0\n",
      " 0 0 0 0 0 0 0 0 0 0 0 0 0 0 0 0 0 0 0 0 0 0 0 0 0 0 0 0 0 0 0 0 0 0 0 0 0\n",
      " 0 0 0 0 0 0 0 0 0 0 0 0 0 0 0 0 0 0 0 0 0 0 0 0 0 0 0 0 0 0 0 0 0 0 0 0 0\n",
      " 0 0 0 0 0 0 0 0 0 0 0 0 0 0 0]\n"
     ]
    }
   ],
   "source": [
    "print(pred)"
   ]
  },
  {
   "cell_type": "code",
   "execution_count": 87,
   "metadata": {},
   "outputs": [
    {
     "data": {
      "text/plain": [
       "<matplotlib.collections.PathCollection at 0x7fbd6dccbef0>"
      ]
     },
     "execution_count": 87,
     "metadata": {},
     "output_type": "execute_result"
    },
    {
     "data": {
      "image/png": "[encoded data removed]",
      "text/plain": [
       "<Figure size 432x288 with 1 Axes>"
      ]
     },
     "metadata": {
      "needs_background": "light"
     },
     "output_type": "display_data"
    }
   ],
   "source": [
    "plt.scatter(X[:,0],X[:,1],c=pred)"
   ]
  },
  {
   "cell_type": "code",
   "execution_count": null,
   "metadata": {},
   "outputs": [],
   "source": []
  }
 ],
 "metadata": {
  "kernelspec": {
   "display_name": "Python 3",
   "language": "python",
   "name": "python3"
  },
  "language_info": {
   "codemirror_mode": {
    "name": "ipython",
    "version": 3
   },
   "file_extension": ".py",
   "mimetype": "text/x-python",
   "name": "python",
   "nbconvert_exporter": "python",
   "pygments_lexer": "ipython3",
   "version": "3.7.3"
  }
 },
 "nbformat": 4,
 "nbformat_minor": 2
}
