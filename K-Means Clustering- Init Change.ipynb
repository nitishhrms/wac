{
 "cells": [
  {
   "cell_type": "markdown",
   "metadata": {},
   "source": [
    "# K-Means\n",
    "- Common clustering technique, helps to solve many problems efficiently.\n",
    "- K-Means is an example of Hard Clustering, where every point belongs only to one cluster.\n",
    "\n",
    "## Motivation Problem - *Pizza Parlour Study*\n",
    "\n",
    "**Problem Statement** Given the list of locations of customers who frequently order Pizza we want to find out optimal locations of Pizza Parlours where they should be opened.\n",
    "\n",
    "<img src=\"pizza1.png\" alt=\"Pizza-1\" style=\"width: 400px;\"/>\n",
    "\n",
    "**Step-1** : Initialise Pizza Parlour Centers randomly.\n",
    "<img src=\"pizza2.png\" alt=\"Pizza-2\" style=\"width: 400px;\"/>\n",
    "\n",
    "**Step-2** : Assign each customer to its nearest Pizza Center.\n",
    "<img src=\"pizza3.png\" alt=\"Pizza-3\" style=\"width: 400px;\"/>\n",
    "\n",
    "**Step-3** : Update the Center Location by taking mean of customers assigned to it.\n",
    "<img src=\"pizza4.png\" alt=\"Pizza-4\" style=\"width: 400px;\"/>\n",
    "\n",
    "**Step-4** : Repeat Steps 2 and 3 Until Convergence.\n",
    "<img src=\"pizza5.png\" alt=\"Pizza-5\" style=\"width: 400px;\"/>"
   ]
  },
  {
   "cell_type": "markdown",
   "metadata": {},
   "source": [
    "## K-Means Algorithm\n",
    "\n",
    "**Input Data** : X = {x1,...,xN}\n",
    "\n",
    "**Goal** : Partition the data among some K number of clusters. Let us assume K is known to us.\n",
    "\n",
    "Let µk denote the center of Kth Cluster (uk will be vector)\n",
    "\n",
    "So we need to ﬁnd an assignment of data points to clusters,\n",
    "as well as a set of cluster centers{µk}, such that the sum of the squares \n",
    "of the distances of each data point to its closest cluster center µk, is a minimum. \n",
    "\n"
   ]
  },
  {
   "cell_type": "markdown",
   "metadata": {},
   "source": [
    "\n",
    "<img src=\"k-means.png\" alt=\"Pizza-1\" style=\"width: 600px;\"/>\n"
   ]
  },
  {
   "cell_type": "markdown",
   "metadata": {},
   "source": [
    "## Implementation\n",
    "\n"
   ]
  },
  {
   "cell_type": "code",
   "execution_count": 1,
   "metadata": {},
   "outputs": [
    {
     "name": "stderr",
     "output_type": "stream",
     "text": [
      "/home/nitish/snap/jupyter/common/lib/python3.7/site-packages/joblib/_multiprocessing_helpers.py:45: UserWarning: [Errno 13] Permission denied.  joblib will operate in serial mode\n",
      "  warnings.warn('%s.  joblib will operate in serial mode' % (e,))\n"
     ]
    }
   ],
   "source": [
    "import numpy as np\n",
    "from matplotlib import pyplot as plt\n",
    "from sklearn.datasets import make_blobs"
   ]
  },
  {
   "cell_type": "markdown",
   "metadata": {},
   "source": [
    "## Dataset Preparation"
   ]
  },
  {
   "cell_type": "code",
   "execution_count": 2,
   "metadata": {},
   "outputs": [],
   "source": [
    "X,y  = make_blobs(n_samples=500,n_features=2,centers=5,random_state=3)"
   ]
  },
  {
   "cell_type": "code",
   "execution_count": 3,
   "metadata": {},
   "outputs": [
    {
     "data": {
      "image/png": "[encoded data removed]",
      "text/plain": [
       "<Figure size 432x288 with 1 Axes>"
      ]
     },
     "metadata": {
      "needs_background": "light"
     },
     "output_type": "display_data"
    }
   ],
   "source": [
    "plt.figure(0)\n",
    "plt.grid(True)\n",
    "plt.scatter(X[:,0],X[:,1])\n",
    "plt.show()"
   ]
  },
  {
   "cell_type": "code",
   "execution_count": 4,
   "metadata": {},
   "outputs": [],
   "source": [
    "k = 5\n",
    "\n",
    "color  = [\"green\",\"red\",\"blue\",\"yellow\",\"orange\"]\n",
    "\n",
    "clusters = {}\n",
    "\n",
    "for i in range(k):\n",
    "    center = 10*(2*np.random.random((X.shape[1],))-1)\n",
    "    points = []\n",
    "    \n",
    "    cluster = {\n",
    "        'center':center,\n",
    "        'points':points,\n",
    "        'color': color[i]\n",
    "        }\n",
    "    \n",
    "    clusters[i] = cluster\n",
    "\n",
    "\n"
   ]
  },
  {
   "cell_type": "code",
   "execution_count": 5,
   "metadata": {},
   "outputs": [
    {
     "name": "stdout",
     "output_type": "stream",
     "text": [
      "[5.92494388 2.92886913]\n"
     ]
    }
   ],
   "source": [
    "center = 10*(2*np.random.random((X.shape[1],))-1)\n",
    "print(center)"
   ]
  },
  {
   "cell_type": "code",
   "execution_count": 6,
   "metadata": {},
   "outputs": [],
   "source": [
    "#clusters"
   ]
  },
  {
   "cell_type": "code",
   "execution_count": 7,
   "metadata": {},
   "outputs": [],
   "source": [
    "def distance(v1,v2):\n",
    "    return np.sqrt(np.sum((v1-v2)**2))"
   ]
  },
  {
   "cell_type": "code",
   "execution_count": 8,
   "metadata": {},
   "outputs": [
    {
     "data": {
      "text/plain": [
       "{0: {'center': array([-5.82632576,  1.53431216]),\n",
       "  'points': [],\n",
       "  'color': 'green'},\n",
       " 1: {'center': array([-5.89900908,  3.101567  ]),\n",
       "  'points': [],\n",
       "  'color': 'red'},\n",
       " 2: {'center': array([-0.21307907, -6.59237599]),\n",
       "  'points': [],\n",
       "  'color': 'blue'},\n",
       " 3: {'center': array([5.41256128, 0.8292118 ]),\n",
       "  'points': [],\n",
       "  'color': 'yellow'},\n",
       " 4: {'center': array([2.7171134, 6.3454555]), 'points': [], 'color': 'orange'}}"
      ]
     },
     "execution_count": 8,
     "metadata": {},
     "output_type": "execute_result"
    }
   ],
   "source": [
    "clusters"
   ]
  },
  {
   "cell_type": "code",
   "execution_count": 9,
   "metadata": {},
   "outputs": [],
   "source": [
    "\n",
    "# Assign every data point to one of the clusters\n",
    "def assignPointToClusters(clusters): #E-Step\n",
    "    for ix in range(X.shape[0]):\n",
    "        dist = []\n",
    "        curr_x = X[ix]\n",
    "\n",
    "        for kx in range(k):\n",
    "            d = distance(curr_x,clusters[kx]['center'])\n",
    "            dist.append(d)\n",
    "\n",
    "        current_cluster = np.argmin(dist)    \n",
    "        clusters[current_cluster]['points'].append(curr_x)\n",
    "        \n",
    "def updateClusters(clusters): # M-Step -> We update every cluster center according to the mean of the points in it\n",
    "    for kx in range(k):\n",
    "        pts = np.array(clusters[kx]['points'])\n",
    "        \n",
    "        if pts.shape[0]>0: #If a cluster has some-nonzero points\n",
    "            new_u = pts.mean(axis=0)\n",
    "            clusters[kx]['center'] = new_u\n",
    "            clusters[kx]['points'] = [] #Clear the list \n",
    "                    \n",
    "    \n",
    "\n",
    "def plotClusters(clusters):\n",
    "    \n",
    "    for kx in range(k):\n",
    "        #print(len(clusters[kx]['points']))\n",
    "        \n",
    "        pts = np.array(clusters[kx]['points'])\n",
    "        #print(pts.shape)\n",
    "        \n",
    "        #Plot the points\n",
    "        try:\n",
    "            plt.scatter(pts[:,0],pts[:,1],color=clusters[kx]['color'])\n",
    "        except:\n",
    "            pass\n",
    "        \n",
    "        #Plot the cluster center\n",
    "        uk = clusters[kx]['center']\n",
    "        plt.scatter(uk[0],uk[1],color=\"black\",marker=\"*\")\n",
    "   \n",
    "    "
   ]
  },
  {
   "cell_type": "code",
   "execution_count": 10,
   "metadata": {},
   "outputs": [
    {
     "data": {
      "image/png": "[encoded data removed]",
      "text/plain": [
       "<Figure size 432x288 with 1 Axes>"
      ]
     },
     "metadata": {
      "needs_background": "light"
     },
     "output_type": "display_data"
    }
   ],
   "source": [
    "assignPointToClusters(clusters)\n",
    "plotClusters(clusters)"
   ]
  },
  {
   "cell_type": "code",
   "execution_count": 15,
   "metadata": {},
   "outputs": [
    {
     "data": {
      "image/png": "[encoded data removed]",
      "text/plain": [
       "<Figure size 432x288 with 1 Axes>"
      ]
     },
     "metadata": {
      "needs_background": "light"
     },
     "output_type": "display_data"
    }
   ],
   "source": [
    "# Repeat this cell few times or put it inside a loop\n",
    "assignPointToClusters(clusters)\n",
    "plotClusters(clusters)\n",
    "updateClusters(clusters)"
   ]
  },
  {
   "cell_type": "code",
   "execution_count": null,
   "metadata": {},
   "outputs": [],
   "source": []
  },
  {
   "cell_type": "code",
   "execution_count": null,
   "metadata": {},
   "outputs": [],
   "source": []
  }
 ],
 "metadata": {
  "kernelspec": {
   "display_name": "Python 3",
   "language": "python",
   "name": "python3"
  },
  "language_info": {
   "codemirror_mode": {
    "name": "ipython",
    "version": 3
   },
   "file_extension": ".py",
   "mimetype": "text/x-python",
   "name": "python",
   "nbconvert_exporter": "python",
   "pygments_lexer": "ipython3",
   "version": "3.7.3"
  }
 },
 "nbformat": 4,
 "nbformat_minor": 2
}
